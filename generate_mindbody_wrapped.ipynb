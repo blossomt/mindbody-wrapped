{
 "cells": [
  {
   "cell_type": "markdown",
   "metadata": {},
   "source": [
    "# Download class booking data"
   ]
  },
  {
   "cell_type": "code",
   "execution_count": null,
   "metadata": {},
   "outputs": [],
   "source": [
    "# Enter mindbody token here\n",
    "token = input(\"Enter token:\")"
   ]
  },
  {
   "cell_type": "code",
   "execution_count": null,
   "metadata": {},
   "outputs": [],
   "source": [
    "from mindbody_functions import download_mindbody_data\n",
    "download_mindbody_data(token, output_file='./data/bookings.json')"
   ]
  },
  {
   "cell_type": "markdown",
   "metadata": {},
   "source": [
    "# Read and process data"
   ]
  },
  {
   "cell_type": "code",
   "execution_count": null,
   "metadata": {},
   "outputs": [],
   "source": [
    "import pandas as pd\n",
    "import json\n",
    "\n",
    "with open('./data/bookings.json', 'r') as file:\n",
    "    data = json.load(file)\n",
    "\n",
    "df = pd.json_normalize(\n",
    "    data,\n",
    "    meta=[\n",
    "        'id',\n",
    "        'attributes.startTime',\n",
    "        'attributes.endTime',\n",
    "        'attributes.locationBusinessName',\n",
    "        'attributes.name',\n",
    "        'attributes.serviceStaff'\n",
    "    ]\n",
    ").rename(columns=lambda x: x.split('.')[-1])\n",
    "\n",
    "df['staffName'] = df['serviceStaff'].apply(lambda x: x[0]['name'] if x else None).str.strip()\n",
    "df = df[[\"id\", \"startTime\", \"endTime\", \"locationBusinessName\", \"name\", \"staffName\"]]\n",
    "\n",
    "df['startTime'] = pd.to_datetime(df['startTime']).dt.tz_convert('Asia/Singapore')\n",
    "df['endTime'] = pd.to_datetime(df['endTime']).dt.tz_convert('Asia/Singapore')\n",
    "df['date'] = df['startTime'].dt.date\n",
    "\n",
    "df.head(3)"
   ]
  },
  {
   "cell_type": "markdown",
   "metadata": {},
   "source": [
    "# Filter studio/year"
   ]
  },
  {
   "cell_type": "code",
   "execution_count": null,
   "metadata": {},
   "outputs": [],
   "source": [
    "unique_studios = df['locationBusinessName'].unique()\n",
    "print(\"Choose a studio from the below list:\")\n",
    "for i, studio in enumerate(unique_studios, 1):\n",
    "    print(f\"{i}. {studio}\")"
   ]
  },
  {
   "cell_type": "code",
   "execution_count": null,
   "metadata": {},
   "outputs": [],
   "source": [
    "year = 2024\n",
    "selected_studio = None\n",
    "# If no studio is specified, default to top studio\n",
    "studio_name = selected_studio if selected_studio else df['locationBusinessName'].value_counts().idxmax()\n",
    "df = df[(df['locationBusinessName'] == studio_name) & (df['startTime'].dt.year.isin([year]))]"
   ]
  },
  {
   "cell_type": "markdown",
   "metadata": {},
   "source": [
    "# Generate class stats"
   ]
  },
  {
   "cell_type": "code",
   "execution_count": null,
   "metadata": {},
   "outputs": [],
   "source": [
    "\n",
    "# 1. Total number of classes taken\n",
    "total_classes = len(df)\n",
    "\n",
    "# 2. Favourite class type (most frequent class)\n",
    "top_classes = df['name'].value_counts().head(3).index.tolist()\n",
    "\n",
    "# 3. Most classes taken in the morning/afternoon/evening\n",
    "# Define time slots\n",
    "def categorize_time_of_day(row):\n",
    "    hour = row.hour\n",
    "    if 5 <= hour < 12:\n",
    "        return 'Morning'\n",
    "    elif 12 <= hour < 17:\n",
    "        return 'Afternoon'\n",
    "    else:\n",
    "        return 'Evening'\n",
    "\n",
    "df['timeOfDay'] = df['startTime'].apply(categorize_time_of_day)\n",
    "most_classes_time_of_day = df['timeOfDay'].value_counts().idxmax()\n",
    "classes_on_most_classes_time = df['timeOfDay'].value_counts().max()\n",
    "\n",
    "# 4. Most classes taken on a particular day of the week\n",
    "df['dayOfWeek'] = df['startTime'].dt.day_name()\n",
    "most_classes_day_of_week = df['dayOfWeek'].value_counts().idxmax()\n",
    "classes_on_most_classes_day = df['dayOfWeek'].value_counts().max()\n",
    "\n",
    "# 5. Favourite instructor (staffName with the highest count)\n",
    "top_instructor = df['staffName'].value_counts().idxmax()\n",
    "classes_with_top_instructor = df['staffName'].value_counts().max()\n",
    "\n",
    "# 6. Total hours spent moving\n",
    "df['duration'] = (df['endTime'] - df['startTime']).dt.total_seconds() / 3600 \n",
    "total_hours = df['duration'].sum()\n",
    "\n",
    "# Print summary\n",
    "print(f\"1. You took {total_classes} classes in {year}.\")\n",
    "print(f\"2. Your favourite class types were:\")\n",
    "for idx, class_type in enumerate(top_classes, 1):\n",
    "    print(f\"   • {class_type}\")\n",
    "print(f\"3. You took the most classes in the {most_classes_time_of_day} ({classes_on_most_classes_time} classes)\")\n",
    "print(f\"4. You took the most classes on {most_classes_day_of_week} ({classes_on_most_classes_day} classes).\")\n",
    "print(f\"5. Your top instructor was {top_instructor} ({classes_with_top_instructor} classes).\")\n",
    "print(f\"6. You spent {total_hours:.2f} hours moving this year!\")"
   ]
  },
  {
   "cell_type": "markdown",
   "metadata": {},
   "source": [
    "# Create calendar plot"
   ]
  },
  {
   "cell_type": "code",
   "execution_count": null,
   "metadata": {},
   "outputs": [],
   "source": [
    "import calmap\n",
    "import matplotlib.pyplot as plt\n",
    "plt.ioff()\n",
    "\n",
    "count_per_day = df.groupby('date').size().reset_index(name='count')\n",
    "count_per_day['date'] = pd.to_datetime(count_per_day['date'])\n",
    "count_per_day.set_index('date', inplace=True)\n",
    "\n",
    "fig = plt.figure(figsize=(20,4))\n",
    "calmap.yearplot(count_per_day, year=year, vmin=0)\n",
    "plt.xticks(fontsize=16)\n",
    "plt.yticks(fontsize=14)\n",
    "plt.ylabel(year, fontsize=58, color='#BBBBBB', weight='bold')\n",
    "plt.title('Class Calendar', color='#444444', fontsize=20, weight='bold')\n",
    "\n",
    "plt.savefig('calendar.png')\n"
   ]
  },
  {
   "cell_type": "markdown",
   "metadata": {},
   "source": [
    "# Generate Mindbody Wrapped"
   ]
  },
  {
   "cell_type": "code",
   "execution_count": null,
   "metadata": {},
   "outputs": [],
   "source": [
    "markdown_content = f\"\"\"\n",
    "# A Year with *{studio_name}* ✨\n",
    "\n",
    "## 🚀 Your {year} Class Summary\n",
    "1. 🎯 You took {total_classes} classes in {year}!  \n",
    "2. 🏆 Your favourite class types were:\n",
    "   - {top_classes[0]}\n",
    "   - {top_classes[1]}\n",
    "   - {top_classes[2]}\n",
    "3. 🌅 Most Active Time: You’re a true {most_classes_time_of_day} champion! 🏅  \n",
    "   You took {classes_on_most_classes_time} classes in this time!\n",
    "4. 📆 Most Popular Day: You absolutely owned {most_classes_day_of_week}!  \n",
    "   With {classes_on_most_classes_day} classes, {most_classes_day_of_week}s are clearly your day!\n",
    "5. 👑 Your top instructor was {top_instructor}! ({classes_with_top_instructor} classes)  \n",
    "   It’s no surprise! You loved {top_instructor}'s energy and vibe all year. ✨\n",
    "6. ⏰ You spent {total_hours:.2f} hours moving this year! \n",
    "\n",
    "## 📅 Class Calendar Overview\n",
    "\n",
    "![Class Calendar](calendar.png)\n",
    "\n",
    "\"\"\"\n",
    "\n",
    "from IPython.display import Markdown as md\n",
    "md(markdown_content)"
   ]
  }
 ],
 "metadata": {
  "kernelspec": {
   "display_name": ".venv",
   "language": "python",
   "name": "python3"
  },
  "language_info": {
   "codemirror_mode": {
    "name": "ipython",
    "version": 3
   },
   "file_extension": ".py",
   "mimetype": "text/x-python",
   "name": "python",
   "nbconvert_exporter": "python",
   "pygments_lexer": "ipython3",
   "version": "3.11.9"
  }
 },
 "nbformat": 4,
 "nbformat_minor": 2
}
